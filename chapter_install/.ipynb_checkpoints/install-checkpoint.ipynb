{
 "cells": [
  {
   "cell_type": "markdown",
   "metadata": {},
   "source": [
    "# Installation\n",
    "\n",
    ":label:`chapter_installation`\n",
    "\n",
    "\n",
    "To get you up and running with hands-on experiences, we'll need you to set up with a Python environment, Jupyter's interactive notebooks, the relevant libraries, and the code needed to run the book.\n",
    "\n",
    "## Installing Miniconda\n",
    "\n",
    "To simplify the installation, we need to install [Miniconda](https://conda.io/en/latest/miniconda.html). Download the corresponing Miniconda \"sh\" file from the website and then execute the command line `sudo sh <FILENAME>`, *e.g.*,"
   ]
  },
  {
   "cell_type": "markdown",
   "metadata": {},
   "source": [
    "```bash\n",
    "# For Mac users (the file name is subject to changes)\n",
    "sudo sh Miniconda3-latest-MacOSX-x86_64.sh\n",
    "\n",
    "# For Linux users (the file name is subject to changes)\n",
    "sudo sh Miniconda3-latest-Linux-x86_64.sh\n",
    "```\n"
   ]
  },
  {
   "cell_type": "markdown",
   "metadata": {},
   "source": [
    "You need to answer the following questions:"
   ]
  },
  {
   "cell_type": "markdown",
   "metadata": {},
   "source": [
    "```bash\n",
    "Do you accept the license terms? [yes|no]\n",
    "[no] >>> yes\n",
    "\n",
    "Miniconda3 will now be installed into this location:\n",
    "/home/rlhu/miniconda3\n",
    "  - Press ENTER to confirm the location\n",
    "  - Press CTRL-C to abort the installation\n",
    "  - Or specify a different location below\n",
    ">>> <ENTER>\n",
    "\n",
    "Do you wish the installer to initialize Miniconda3\n",
    "by running conda init? [yes|no]\n",
    "[no] >>> yes\n",
    "```\n"
   ]
  },
  {
   "cell_type": "markdown",
   "metadata": {},
   "source": [
    "After miniconda installation, run the following command to activate conda."
   ]
  },
  {
   "cell_type": "markdown",
   "metadata": {},
   "source": [
    "```bash\n",
    "# For Mac user\n",
    "source ~/.bash_profile\n",
    "\n",
    "# For Linux user\n",
    "source ~/.bashrc\n",
    "```\n"
   ]
  },
  {
   "cell_type": "markdown",
   "metadata": {},
   "source": [
    "Then create the conda \"d2l\"\" environment and enter `y` for the following inquiries as shown in :numref:`fig_conda_create_d2l`."
   ]
  },
  {
   "cell_type": "markdown",
   "metadata": {},
   "source": [
    "```bash\n",
    "conda create --name d2l\n",
    "```\n"
   ]
  },
  {
   "cell_type": "markdown",
   "metadata": {},
   "source": [
    "![ Conda create environment d2l. ](../img/conda_create_d2l.png)\n",
    "\n",
    ":width:`700px`\n",
    "\n",
    "\n",
    ":label:`fig_conda_create_d2l`\n",
    "\n",
    "\n",
    "\n",
    "## Downloading the d2l Notebooks\n",
    "\n",
    "Now, let us download the code for this book."
   ]
  },
  {
   "cell_type": "markdown",
   "metadata": {},
   "source": [
    "```bash\n",
    "sudo apt-get install unzip\n",
    "mkdir d2l-en && cd d2l-en\n",
    "wget http://numpy.d2l.ai/d2l-en.zip\n",
    "unzip d2l-en.zip && rm d2l-en.zip\n",
    "```\n"
   ]
  },
  {
   "cell_type": "markdown",
   "metadata": {},
   "source": [
    "Within the \"d2l\" environment, activate it and install `pip`. Enter `y` for the following inquiries."
   ]
  },
  {
   "cell_type": "markdown",
   "metadata": {},
   "source": [
    "```bash\n",
    "conda activate d2l\n",
    "conda install pip\n",
    "```\n"
   ]
  },
  {
   "cell_type": "markdown",
   "metadata": {},
   "source": [
    "Finally, install \"d2l\" package within the environment \"d2l\" that we created."
   ]
  },
  {
   "cell_type": "markdown",
   "metadata": {},
   "source": [
    "```\n",
    "pip install git+https://github.com/d2l-ai/d2l-en@numpy2\n",
    "```\n"
   ]
  },
  {
   "cell_type": "markdown",
   "metadata": {},
   "source": [
    "If unfortunately something went wrong, please check\n",
    "\n",
    "1. You are using `pip` for Python 3 instead of Python 2 by checking `pip --version`. If it's Python 2, then you may check if there is a `pip3` available.\n",
    "2. You are using a recent `pip`, such as version 19. Otherwise you can upgrade it through `pip install --upgrade pip`\n",
    "3. If you don't have permission to install package in system wide, you can install to your home directory by adding a `--user` flag. Such as `pip install d2l --user`\n",
    "\n",
    "\n",
    "## Installing MXNet\n",
    "\n",
    "Before installing `mxnet`, please first check if you are able to access GPUs. If so, please go to :ref:`sec_gpu` for instructions to install a GPU-supported `mxnet`. Otherwise, you can install the CPU version, which is still good enough for the first few chapters."
   ]
  },
  {
   "cell_type": "markdown",
   "metadata": {},
   "source": [
    "```\n",
    "# For Windows users\n",
    "pip install mxnet==1.6.0b20190926\n",
    "\n",
    "# For Linux and macOS users\n",
    "pip install mxnet==1.6.0b20190915\n",
    "```\n"
   ]
  },
  {
   "cell_type": "markdown",
   "metadata": {},
   "source": [
    "Once both packages are installed, we now open the Jupyter notebook by"
   ]
  },
  {
   "cell_type": "markdown",
   "metadata": {},
   "source": [
    "```\n",
    "jupyter notebook\n",
    "```\n"
   ]
  },
  {
   "cell_type": "markdown",
   "metadata": {},
   "source": [
    "At this point open http://localhost:8888 (which usually opens automatically) in the browser, then we can view and run the code in each section of the book.\n",
    "\n",
    "## Upgrade to a New Version\n",
    "\n",
    "Both this book and MXNet are keeping improving. Please check a new version from time to time.\n",
    "\n",
    "1. The URL  http://numpy.d2l.ai/d2l-en.zip always points to the latest contents.\n",
    "2. Please upgrade \"d2l\" by `pip install git+https://github.com/d2l-ai/d2l-en@numpy2`.\n",
    "3. For the CPU version, MXNet can be upgraded by `pip uninstall mxnet` then re-running the aforementioned `pip install mxnet==...` command.\n",
    "\n",
    "\n",
    "## GPU Support\n",
    "\n",
    "\n",
    ":label:`sec_gpu`\n",
    "\n",
    "\n",
    "By default MXNet is installed without GPU support to ensure that it will run on any computer (including most laptops). Part of this book requires or recommends running with GPU. If your computer has NVIDIA graphics cards and has installed [CUDA](https://developer.nvidia.com/cuda-downloads), you should install a GPU-enabled MXNet.\n",
    "\n",
    "If you have installed the CPU-only version, then remove it first by"
   ]
  },
  {
   "cell_type": "markdown",
   "metadata": {},
   "source": [
    "```bash\n",
    "pip uninstall mxnet\n",
    "```\n"
   ]
  },
  {
   "cell_type": "markdown",
   "metadata": {},
   "source": [
    "Then we need to find the CUDA version you installed. You may check it through `nvcc --version` or `cat /usr/local/cuda/version.txt`. Assume you have installed CUDA 10.1, then you can install the according MXNet version by"
   ]
  },
  {
   "cell_type": "markdown",
   "metadata": {},
   "source": [
    "```\n",
    "# For Windows users\n",
    "pip install mxnet-cu101==1.6.0b20190926\n",
    "\n",
    "# For Linux and macOS users\n",
    "pip install mxnet-cu101==1.6.0b20190915\n",
    "```\n"
   ]
  },
  {
   "cell_type": "markdown",
   "metadata": {},
   "source": [
    "You may change the last digits according to your CUDA version, e.g. `cu100` for CUDA 10.0 and `cu90` for CUDA 9.0. You can find all available MXNet versions by `pip search mxnet`.\n",
    "\n",
    "For installation of MXNet on other platforms, please refer to http://numpy.mxnet.io/#installation.\n",
    "\n",
    "\n",
    "## Exercises\n",
    "\n",
    "1. Download the code for the book and install the runtime environment.\n",
    "\n",
    "\n",
    "## Scan the QR Code to [Discuss](https://discuss.mxnet.io/t/2315)\n",
    "\n",
    "![](../img/qr_install.svg)"
   ]
  }
 ],
 "metadata": {
  "kernelspec": {
   "display_name": "Python 3",
   "language": "python",
   "name": "python3"
  },
  "language_info": {
   "codemirror_mode": {
    "name": "ipython",
    "version": 3
   },
   "file_extension": ".py",
   "mimetype": "text/x-python",
   "name": "python",
   "nbconvert_exporter": "python",
   "pygments_lexer": "ipython3",
   "version": "3.6.9"
  }
 },
 "nbformat": 4,
 "nbformat_minor": 2
}
