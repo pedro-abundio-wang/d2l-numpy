{
 "cells": [
  {
   "cell_type": "markdown",
   "metadata": {},
   "source": [
    "# Linear Algebra\n",
    "\n",
    ":label:`chapter_linear_algebra`\n",
    "\n",
    "\n",
    "Now that you can store and manipulate data,\n",
    "let us briefly review the subset of basic linear algebra\n",
    "that you will need to understand and implement\n",
    "most of models covered in this book.\n",
    "Below, we introduce the basic concepts,\n",
    "expressing each both through mathematical notation\n",
    "and the corresponding implementation in code.\n",
    "If you are already confident in your basic linear algebra,\n",
    "feel free to skim or skip this section."
   ]
  },
  {
   "cell_type": "code",
   "execution_count": 1,
   "metadata": {
    "attributes": {
     "classes": [],
     "id": "",
     "n": "1"
    }
   },
   "outputs": [],
   "source": [
    "from mxnet import np, npx\n",
    "npx.set_np()"
   ]
  },
  {
   "cell_type": "markdown",
   "metadata": {},
   "source": [
    "## Scalars\n",
    "\n",
    "If you never studied linear algebra or machine learning,\n",
    "then your past experience with math probably consisted\n",
    "of thinking about one number at a time.\n",
    "And, if you ever balanced a checkbook\n",
    "or even paid for dinner at a restaurant\n",
    "then you already know how to do basic things\n",
    "like adding and multiplying pairs of numbers.\n",
    "For example, the temperature in Palo Alto is $52$ degrees Fahrenheit.\n",
    "Formally, we call values consisting\n",
    "of just one numerical quantity *scalars*.\n",
    "If you wanted to convert this value to Celsius\n",
    "(the metric system's more sensible temperature scale),\n",
    "you would evaluate the expression $c = \\frac{5}{9}(f - 32)$, setting $f$ to $52$.\n",
    "In this equation, each of the terms---$5$, $9$, and $32$---are scalar values.\n",
    "The placeholders $c$ and $f$ are called *variables*\n",
    "and they represented unknown scalar values.\n",
    "\n",
    "In this book, we adopt the mathematical notation\n",
    "where scalar variables are denoted\n",
    "by ordinary lower-cased letters (e.g., $x$, $y$, and $z$).\n",
    "We denote the space of all (continuous) *real-valued* scalars by $\\mathbb{R}$.\n",
    "For expedience, we will punt on rigorous definitions\n",
    "of what precisely *space* is,\n",
    "but just remember for now that the expression $x \\in \\mathbb{R}$\n",
    "is a formal way to say that $x$ is a real-valued scalar.\n",
    "The symbol $\\in$ can be pronounced \"in\"\n",
    "and simply denotes membership in a set.\n",
    "Analogously, we could write $x,y \\in \\{0,1\\}$\n",
    "to state that $x$ and $y$ are numbers\n",
    "whose value can only be $0$ or $1$.\n",
    "\n",
    "In MXNet code, a scalar is represented by an `ndarray` with just one element.\n",
    "In the next snippet, we instantiate two scalars\n",
    "and perform some familiar arithmetic operations with them,\n",
    "namely addition, multiplication, division, and exponentiation."
   ]
  },
  {
   "cell_type": "code",
   "execution_count": 2,
   "metadata": {
    "attributes": {
     "classes": [],
     "id": "",
     "n": "2"
    }
   },
   "outputs": [
    {
     "data": {
      "text/plain": [
       "(array(5.), array(6.), array(1.5), array(9.))"
      ]
     },
     "execution_count": 2,
     "metadata": {},
     "output_type": "execute_result"
    }
   ],
   "source": [
    "x = np.array(3.0)\n",
    "y = np.array(2.0)\n",
    "\n",
    "x + y, x * y, x / y, x ** y"
   ]
  },
  {
   "cell_type": "markdown",
   "metadata": {},
   "source": [
    "## Vectors\n",
    "\n",
    "You can think of a vector as simply a list of scalar values.\n",
    "We call these values the *elements* (*entries* or *components*) of the vector.\n",
    "When our vectors represent examples from our dataset,\n",
    "their values hold some real-world significance.\n",
    "For example, if we were training a model to predict\n",
    "the risk that a loan defaults,\n",
    "we might associate each applicant with a vector\n",
    "whose components correspond to their income,\n",
    "length of employment, number of previous defaults, and other factors.\n",
    "If we were studying the risk of heart attacks hospital patients potentially face,\n",
    "we might represent each patient by a vector\n",
    "whose components capture their most recent vital signs,\n",
    "cholesterol levels, minutes of exercise per day, etc.\n",
    "In math notation, we will usually denote vectors as bold-faced,\n",
    "lower-cased letters (e.g., $\\mathbf{x}$, $\\mathbf{y}$, and $\\mathbf{z})$.\n",
    "\n",
    "In MXNet, we work with vectors via $1$-dimensional `ndarray`s.\n",
    "In general `ndarray`s can have arbitrary lengths,\n",
    "subject to the memory limits of your machine."
   ]
  },
  {
   "cell_type": "code",
   "execution_count": 3,
   "metadata": {
    "attributes": {
     "classes": [],
     "id": "",
     "n": "3"
    }
   },
   "outputs": [
    {
     "data": {
      "text/plain": [
       "array([0., 1., 2., 3.])"
      ]
     },
     "execution_count": 3,
     "metadata": {},
     "output_type": "execute_result"
    }
   ],
   "source": [
    "x = np.arange(4)\n",
    "x"
   ]
  },
  {
   "cell_type": "markdown",
   "metadata": {},
   "source": [
    "We can refer to any element of a vector by using a subscript.\n",
    "For example, we can refer to the $i^\\mathrm{th}$ element of $\\mathbf{x}$ by $x_i$.\n",
    "Note that the element $x_i$ is a scalar,\n",
    "so we do not bold-face the font when referring to it.\n",
    "Extensive literature considers column vectors to be the default\n",
    "orientation of vectors, so does this book.\n",
    "In math, a vector $\\mathbf{x}$ can be written as\n",
    "\n",
    "$$\n",
    "\\mathbf{x} =\n",
    "\\begin{bmatrix}\n",
    "    x_{1}  \\\\\n",
    "    x_{2}  \\\\\n",
    "    \\vdots  \\\\\n",
    "    x_{n}\n",
    "\\end{bmatrix},\n",
    "$$\n",
    "\n",
    "where $x_1, \\ldots, x_n$ are elements of the vector.\n",
    "In code, we access any element by indexing into the `ndarray`."
   ]
  },
  {
   "cell_type": "code",
   "execution_count": 4,
   "metadata": {
    "attributes": {
     "classes": [],
     "id": "",
     "n": "4"
    }
   },
   "outputs": [
    {
     "data": {
      "text/plain": [
       "array(3.)"
      ]
     },
     "execution_count": 4,
     "metadata": {},
     "output_type": "execute_result"
    }
   ],
   "source": [
    "x[3]"
   ]
  },
  {
   "cell_type": "markdown",
   "metadata": {},
   "source": [
    "### Length, Dimensionality, and Shape\n",
    "\n",
    "Let us revisit some concepts from :numref:`chapter_ndarray`.\n",
    "A vector is just an array of numbers.\n",
    "And just as every array has a length, so does every vector.\n",
    "In math notation, if we want to say that a vector $\\mathbf{x}$\n",
    "consists of $n$ real-valued scalars,\n",
    "we can express this as $\\mathbf{x} \\in \\mathbb{R}^n$.\n",
    "The length of a vector is commonly called the *dimension* of the vector.\n",
    "\n",
    "As with an ordinary Python array, we can access the length of an `ndarray`\n",
    "by calling Python's built-in `len()` function."
   ]
  },
  {
   "cell_type": "code",
   "execution_count": 5,
   "metadata": {
    "attributes": {
     "classes": [],
     "id": "",
     "n": "5"
    }
   },
   "outputs": [
    {
     "data": {
      "text/plain": [
       "4"
      ]
     },
     "execution_count": 5,
     "metadata": {},
     "output_type": "execute_result"
    }
   ],
   "source": [
    "len(x)"
   ]
  },
  {
   "cell_type": "markdown",
   "metadata": {},
   "source": [
    "When an `ndarray` represents a vector (with precisely one axis),\n",
    "we can also access its length via the `.shape` attribute.\n",
    "The shape is a tuple that lists the length (dimensionality)\n",
    "along each axis of the `ndarray`.\n",
    "For `ndarray`s with just one axis, the shape has just one element."
   ]
  },
  {
   "cell_type": "code",
   "execution_count": 6,
   "metadata": {
    "attributes": {
     "classes": [],
     "id": "",
     "n": "6"
    }
   },
   "outputs": [
    {
     "data": {
      "text/plain": [
       "(4,)"
      ]
     },
     "execution_count": 6,
     "metadata": {},
     "output_type": "execute_result"
    }
   ],
   "source": [
    "x.shape"
   ]
  },
  {
   "cell_type": "markdown",
   "metadata": {},
   "source": [
    "Note that the word \"dimension\" tends to get overloaded\n",
    "in these contexts and this tends to confuse people.\n",
    "To clarify, we use the dimensionality of a *vector* or an *axis*\n",
    "to refer to its length, i.e., the number of elements of a vector or an axis.\n",
    "However, we use the dimensionality of an `ndarray`\n",
    "to refer to the number of axes that an `ndarray` has.\n",
    "In this sense, the dimensionality of an `ndarray`'s some axis\n",
    "will be the length of that axis.\n",
    "\n",
    "\n",
    "## Matrices\n",
    "\n",
    "Just as vectors generalize scalars from order $0$ to order $1$,\n",
    "matrices generalize vectors from order $1$ to order $2$.\n",
    "Matrices, which we will typically denote with bold-faced, capital letters\n",
    "(e.g., $\\mathbf{X}$, $\\mathbf{Y}$, and $\\mathbf{Z}$),\n",
    "are represented in code as `ndarray`s with $2$ axes.\n",
    "\n",
    "In math notation, we use $\\mathbf{A} \\in \\mathbb{R}^{n \\times m}$\n",
    "to express that the matrix $\\mathbf{A}$ consists of $n$ rows and $m$ columns of real-valued scalars.\n",
    "Visually, we can illustrate any matrix $\\mathbf{A} \\in \\mathbb{R}^{n \\times m}$ as a table,\n",
    "where each element $a_{ij}$ belongs to the $i^{\\text{th}}$ row and $j^{\\text{th}}$ column:\n",
    "\n",
    "$$\\mathbf{A}=\\begin{bmatrix}\n",
    " a_{11} & a_{12} & \\cdots & a_{1m} \\\\\n",
    " a_{21} & a_{22} & \\cdots & a_{2m} \\\\\n",
    "\\vdots & \\vdots & \\ddots & \\vdots \\\\\n",
    " a_{n1} & a_{n2} & \\cdots & a_{nm} \\\\\n",
    "\\end{bmatrix}.$$\n",
    "\n",
    ":eqlabel:`matrix_def`\n",
    "\n",
    "\n",
    "\n",
    "For any $\\mathbf{A} \\in \\mathbb{R}^{n \\times m}$, the shape of $\\mathbf{A}$\n",
    "is ($n$, $m$) or $n \\times m$.\n",
    "We can create an $n \\times m$ matrix in MXNet\n",
    "by specifying a shape with two components $n$ and $m$\n",
    "when calling any of our favorite functions for instantiating an `ndarray`."
   ]
  },
  {
   "cell_type": "code",
   "execution_count": 7,
   "metadata": {
    "attributes": {
     "classes": [],
     "id": "",
     "n": "24"
    }
   },
   "outputs": [
    {
     "data": {
      "text/plain": [
       "array([[ 0.,  1.,  2.,  3.],\n",
       "       [ 4.,  5.,  6.,  7.],\n",
       "       [ 8.,  9., 10., 11.],\n",
       "       [12., 13., 14., 15.],\n",
       "       [16., 17., 18., 19.]])"
      ]
     },
     "execution_count": 7,
     "metadata": {},
     "output_type": "execute_result"
    }
   ],
   "source": [
    "A = np.arange(20).reshape(5, 4)\n",
    "A"
   ]
  },
  {
   "cell_type": "markdown",
   "metadata": {},
   "source": [
    "We can access the scalar element $a_{ij}$ of a matrix $\\mathbf{A}$ in :eqref:`matrix_def`\n",
    "by specifying the indices for the row ($i$) and column ($j$) respectively,\n",
    "such as $[\\mathbf{A}]_{ij}$.\n",
    "To keep notation simple, commas are inserted to separate indices only when necessary,\n",
    "such as $a_{2,3j}$ and $[\\mathbf{A}]_{2i-1,3}$.\n",
    "\n",
    "\n",
    "Sometimes, we want to flip the axes.\n",
    "When we exchange a matrix's rows and columns,\n",
    "the result is called the *transpose* of the matrix.\n",
    "Formally, we signify a matrix $\\mathbf{A}$'s transpose by $\\mathbf{A}^\\top$\n",
    "and if $B = A^\\top$, then $b_{ij} = a_{ji}$ for any $i$ and $j$.\n",
    "Thus, the transpose of $\\mathbf{A}$ in :eqref:`matrix_def` is\n",
    "a $m \\times n$ matrix:\n",
    "\n",
    "$$\n",
    "\\mathbf{A}^\\top =\n",
    "\\begin{bmatrix}\n",
    "    a_{11} & a_{21} & \\dots  & a_{n1} \\\\\n",
    "    a_{12} & a_{22} & \\dots  & a_{n2} \\\\\n",
    "    \\vdots & \\vdots & \\ddots & \\vdots \\\\\n",
    "    a_{1m} & a_{2m} & \\dots  & a_{nm}\n",
    "\\end{bmatrix}.\n",
    "$$\n",
    "\n",
    "\n",
    "\n",
    "In code, we access a matrix's transpose via the `.T` attribute."
   ]
  },
  {
   "cell_type": "code",
   "execution_count": 8,
   "metadata": {
    "attributes": {
     "classes": [],
     "id": "",
     "n": "8"
    }
   },
   "outputs": [
    {
     "name": "stdout",
     "output_type": "stream",
     "text": [
      "[[ 0.  4.  8. 12. 16.]\n",
      " [ 1.  5.  9. 13. 17.]\n",
      " [ 2.  6. 10. 14. 18.]\n",
      " [ 3.  7. 11. 15. 19.]]\n"
     ]
    }
   ],
   "source": [
    "print(A.T)"
   ]
  },
  {
   "cell_type": "markdown",
   "metadata": {},
   "source": [
    "Matrices are useful data structures: \n",
    "they allow us to organize data that have different modalities of variation. \n",
    "For example, rows in our matrix might correspond to different houses (data points), \n",
    "while columns might correspond to different attributes.\n",
    "This should sound familiar if you have ever used spreadsheet software or\n",
    "have read :ref:`subsec_data_preprocessing`.\n",
    "Thus, although the default orientation of a single vector is a column vector,\n",
    "in a matrix that represents a tabular dataset,\n",
    "it is more conventional to treat each data point as a row vector in the matrix.\n",
    "And, as we will see in later chapters,\n",
    "this convention will enable common deep learning practices.\n",
    "For example, along the outermost axis of an `ndarray`,\n",
    "we can access or enumerate mini-batches of data points,\n",
    "or just data points if no mini-batch exists.\n",
    "\n",
    "\n",
    "## Tensors\n",
    "\n",
    "Just as vectors generalize scalars, and matrices generalize vectors, we can build data structures with even more axes. Tensors give us a generic way of describing arrays with an arbitrary number of axes. Vectors, for example, are first-order tensors, and matrices are second-order tensors.\n",
    "\n",
    "Tensors will become more important when we start working with images, which arrive as 3D data structures, with axes corresponding to the height, width, and a *channel* axis for stacking the three (RGB) color channels. For now, we will skip over higher order tensors and focus on the basics."
   ]
  },
  {
   "cell_type": "code",
   "execution_count": 9,
   "metadata": {
    "attributes": {
     "classes": [],
     "id": "",
     "n": "9"
    }
   },
   "outputs": [
    {
     "name": "stdout",
     "output_type": "stream",
     "text": [
      "X.shape = (2, 3, 4)\n",
      "X = [[[ 0.  1.  2.  3.]\n",
      "  [ 4.  5.  6.  7.]\n",
      "  [ 8.  9. 10. 11.]]\n",
      "\n",
      " [[12. 13. 14. 15.]\n",
      "  [16. 17. 18. 19.]\n",
      "  [20. 21. 22. 23.]]]\n"
     ]
    }
   ],
   "source": [
    "X = np.arange(24).reshape(2, 3, 4)\n",
    "print('X.shape =', X.shape)\n",
    "print('X =', X)"
   ]
  },
  {
   "cell_type": "markdown",
   "metadata": {},
   "source": [
    "## Basic properties of tensor arithmetic\n",
    "\n",
    "Scalars, vectors, matrices, and tensors of any order\n",
    "have some nice properties that often come in handy.\n",
    "For example, you might have noticed\n",
    "from the definition of an element-wise operation,\n",
    "any elementwise unary operation does not change the shape of its operand.\n",
    "Similarly, given any two tensors with the same shape,\n",
    "the result of any binary element-wise operation\n",
    "will be a tensor of that same shape.\n",
    "The same holds for multiplication by a scalar.\n",
    "Using math notation, given any two tensors $X, Y \\in \\mathcal{R}^{m \\times n}$,\n",
    "$\\alpha X + Y \\in  \\mathcal{R}^{m \\times n}$\n",
    "(numerical mathematicians call this the AXPY operation)."
   ]
  },
  {
   "cell_type": "code",
   "execution_count": 10,
   "metadata": {
    "attributes": {
     "classes": [],
     "id": "",
     "n": "10"
    }
   },
   "outputs": [
    {
     "name": "stdout",
     "output_type": "stream",
     "text": [
      "(3,)\n",
      "(3,)\n",
      "(3,)\n",
      "(3,)\n"
     ]
    }
   ],
   "source": [
    "a = 2\n",
    "x = np.ones(3)\n",
    "y = np.zeros(3)\n",
    "print(x.shape)\n",
    "print(y.shape)\n",
    "print((a * x).shape)\n",
    "print((a * x + y).shape)"
   ]
  },
  {
   "cell_type": "markdown",
   "metadata": {},
   "source": [
    "Shape is not the the only property preserved\n",
    "under addition and multiplication by a scalar.\n",
    "These operations also preserve membership in a vector space.\n",
    "But, again we will punt discussion of *vector spaces*\n",
    "in favor of information more critical to getting your first models up and running.\n",
    "\n",
    "## Sums and means\n",
    "\n",
    "One useful operation that we can perform with arbitrary tensors\n",
    "is to calculate the sum of their elements.\n",
    "In mathematical notation, we express sums using the $\\sum$ symbol.\n",
    "To express the sum of the elements in a vector $\\mathbf{u}$ of length $d$,\n",
    "we write $\\sum_{i=1}^d u_i$. In code, we can just call ``sum()``."
   ]
  },
  {
   "cell_type": "code",
   "execution_count": 11,
   "metadata": {
    "attributes": {
     "classes": [],
     "id": "",
     "n": "11"
    }
   },
   "outputs": [
    {
     "name": "stdout",
     "output_type": "stream",
     "text": [
      "[1. 1. 1.]\n",
      "3.0\n"
     ]
    }
   ],
   "source": [
    "print(x)\n",
    "print(x.sum())"
   ]
  },
  {
   "cell_type": "markdown",
   "metadata": {},
   "source": [
    "We can express sums over the elements of tensors of arbitrary shape.\n",
    "For example, the sum of the elements of an $m \\times n$ matrix $A$ could be written $\\sum_{i=1}^{m} \\sum_{j=1}^{n} a_{ij}$."
   ]
  },
  {
   "cell_type": "code",
   "execution_count": 12,
   "metadata": {
    "attributes": {
     "classes": [],
     "id": "",
     "n": "12"
    }
   },
   "outputs": [
    {
     "name": "stdout",
     "output_type": "stream",
     "text": [
      "[[ 0.  1.  2.  3.]\n",
      " [ 4.  5.  6.  7.]\n",
      " [ 8.  9. 10. 11.]\n",
      " [12. 13. 14. 15.]\n",
      " [16. 17. 18. 19.]]\n",
      "190.0\n"
     ]
    }
   ],
   "source": [
    "print(A)\n",
    "print(A.sum())"
   ]
  },
  {
   "cell_type": "markdown",
   "metadata": {},
   "source": [
    "A related quantity is the *mean*, which is also called the *average*.\n",
    "We calculate the mean by dividing the sum by the total number of elements.\n",
    "With mathematical notation, we could write the average\n",
    "over a vector $\\mathbf{u}$ as $\\frac{1}{d} \\sum_{i=1}^{d} u_i$\n",
    "and the average over a matrix $A$ as  $\\frac{1}{n \\cdot m} \\sum_{i=1}^{m} \\sum_{j=1}^{n} a_{ij}$.\n",
    "In code, we could just call ``mean()`` on tensors of arbitrary shape:"
   ]
  },
  {
   "cell_type": "code",
   "execution_count": 13,
   "metadata": {
    "attributes": {
     "classes": [],
     "id": "",
     "n": "13"
    }
   },
   "outputs": [
    {
     "name": "stdout",
     "output_type": "stream",
     "text": [
      "9.5\n",
      "9.5\n"
     ]
    }
   ],
   "source": [
    "print(A.mean())\n",
    "print(A.sum() / A.size)"
   ]
  },
  {
   "cell_type": "markdown",
   "metadata": {},
   "source": [
    "## Dot products\n",
    "\n",
    "So far, we have only performed element-wise operations, sums and averages. And if this was all we could do, linear algebra probably would not deserve its own chapter. However, one of the most fundamental operations is the dot product. Given two vectors $\\mathbf{u}$ and $\\mathbf{v}$, the dot product $\\mathbf{u}^T \\mathbf{v}$ is a sum over the products of the corresponding elements: $\\mathbf{u}^T \\mathbf{v} = \\sum_{i=1}^{d} u_i \\cdot v_i$."
   ]
  },
  {
   "cell_type": "code",
   "execution_count": 14,
   "metadata": {
    "attributes": {
     "classes": [],
     "id": "",
     "n": "14"
    }
   },
   "outputs": [
    {
     "name": "stdout",
     "output_type": "stream",
     "text": [
      "[0. 1. 2. 3.] [1. 1. 1. 1.] 6.0\n"
     ]
    }
   ],
   "source": [
    "x = np.arange(4)\n",
    "y = np.ones(4)\n",
    "print(x, y, np.dot(x, y))"
   ]
  },
  {
   "cell_type": "markdown",
   "metadata": {},
   "source": [
    "Note that we can express the dot product of two vectors `dot(x, y)` equivalently by performing an element-wise multiplication and then a sum:"
   ]
  },
  {
   "cell_type": "code",
   "execution_count": 15,
   "metadata": {
    "attributes": {
     "classes": [],
     "id": "",
     "n": "15"
    }
   },
   "outputs": [
    {
     "data": {
      "text/plain": [
       "array(6.)"
      ]
     },
     "execution_count": 15,
     "metadata": {},
     "output_type": "execute_result"
    }
   ],
   "source": [
    "np.sum(x * y)\n",
    "np.dot(x, y)"
   ]
  },
  {
   "cell_type": "markdown",
   "metadata": {},
   "source": [
    "Dot products are useful in a wide range of contexts.\n",
    "For example, given some set of values,\n",
    "denoted by a vector $\\mathbf{u}$\n",
    "and a set of weights denoted by $\\mathbf{w}$,\n",
    "the weighted sum of the values in $\\mathbf{u}$\n",
    "according to the weights $\\mathbf{w}$\n",
    "could be expressed as the dot product $\\mathbf{u}^T \\mathbf{w}$.\n",
    "When the weights are non-negative\n",
    "and sum to one (i.e., $\\left(\\sum_{i=1}^{d} {w_i} = 1\\right)$),\n",
    "the dot product expresses a *weighted average*.\n",
    "After normalizing two vectors to have length one,\n",
    "the dot products express the cosine of the angle between them.\n",
    "We formally introduce this notion of *length* below in the section on norms.\n",
    "\n",
    "\n",
    "## Matrix-vector products\n",
    "\n",
    "Now that we know how to calculate dot products,\n",
    "we can begin to understand matrix-vector products.\n",
    "Let's start off by visualizing a matrix $A$ and a column vector $\\mathbf{x}$.\n",
    "\n",
    "$$A=\\begin{bmatrix}\n",
    " a_{11} & a_{12} & \\cdots & a_{1m} \\\\\n",
    " a_{21} & a_{22} & \\cdots & a_{2m} \\\\\n",
    "\\vdots & \\vdots & \\ddots & \\vdots \\\\\n",
    " a_{n1} & a_{n2} & \\cdots & a_{nm} \\\\\n",
    "\\end{bmatrix},\\quad\\mathbf{x}=\\begin{bmatrix}\n",
    " x_{1}  \\\\\n",
    " x_{2} \\\\\n",
    "\\vdots\\\\\n",
    " x_{m}\\\\\n",
    "\\end{bmatrix} $$\n",
    "\n",
    "We can visualize the matrix in terms of its row vectors\n",
    "\n",
    "$$A=\n",
    "\\begin{bmatrix}\n",
    "\\mathbf{a}^T_{1} \\\\\n",
    "\\mathbf{a}^T_{2} \\\\\n",
    "\\vdots \\\\\n",
    "\\mathbf{a}^T_n \\\\\n",
    "\\end{bmatrix},$$\n",
    "\n",
    "where each $\\mathbf{a}^T_{i} \\in \\mathbb{R}^{m}$\n",
    "is a row vector representing the $i$-th row of the matrix $A$.\n",
    "\n",
    "The matrix vector product $\\mathbf{y} = A\\mathbf{x}$\n",
    "is simply a column vector $\\mathbf{y} \\in \\mathbb{R}^n$,\n",
    "where each entry $y_i$ is the dot product $\\mathbf{a}^T_i \\mathbf{x}$.\n",
    "\n",
    "$$A\\mathbf{x}=\n",
    "\\begin{bmatrix}\n",
    "\\mathbf{a}^T_{1}  \\\\\n",
    "\\mathbf{a}^T_{2}  \\\\\n",
    " \\vdots  \\\\\n",
    "\\mathbf{a}^T_n \\\\\n",
    "\\end{bmatrix}\n",
    "\\begin{bmatrix}\n",
    " x_{1}  \\\\\n",
    " x_{2} \\\\\n",
    "\\vdots\\\\\n",
    " x_{m}\\\\\n",
    "\\end{bmatrix}\n",
    "= \\begin{bmatrix}\n",
    " \\mathbf{a}^T_{1} \\mathbf{x}  \\\\\n",
    " \\mathbf{a}^T_{2} \\mathbf{x} \\\\\n",
    "\\vdots\\\\\n",
    " \\mathbf{a}^T_{n} \\mathbf{x}\\\\\n",
    "\\end{bmatrix}\n",
    "$$\n",
    "\n",
    "You can think of multiplication by a matrix $A\\in \\mathbb{R}^{n \\times m}$\n",
    "as a transformation that projects vectors\n",
    "from $\\mathbb{R}^{m}$ to $\\mathbb{R}^{n}$.\n",
    "\n",
    "These transformations turn out to be remarkably useful.\n",
    "For example, we can represent rotations\n",
    "as multiplications by a square matrix.\n",
    "As we will see in subsequent chapters,\n",
    "we can also use matrix-vector products\n",
    "to describe the most intensive calculations\n",
    "required when computing each layer in a neural network\n",
    "given the values of the previous layer.\n",
    "\n",
    "Expressing matrix-vector products in code with `ndarray`,\n",
    "we use the same ``dot()`` function as for dot products.\n",
    "When we call ``np.dot(A, x)`` with a matrix ``A`` and a vector ``x``,\n",
    "MXNet knows to perform a matrix-vector product.\n",
    "Note that the column dimension of ``A`` (its length along axis 1)\n",
    "must be the same as the dimension of ``x`` (its length)."
   ]
  },
  {
   "cell_type": "code",
   "execution_count": 16,
   "metadata": {
    "attributes": {
     "classes": [],
     "id": "",
     "n": "16"
    }
   },
   "outputs": [
    {
     "data": {
      "text/plain": [
       "array([ 14.,  38.,  62.,  86., 110.])"
      ]
     },
     "execution_count": 16,
     "metadata": {},
     "output_type": "execute_result"
    }
   ],
   "source": [
    "np.dot(A, x)"
   ]
  },
  {
   "cell_type": "markdown",
   "metadata": {},
   "source": [
    "## Matrix-matrix multiplication\n",
    "\n",
    "If you have gotten the hang of dot products and matrix-vector multiplication,\n",
    "then matrix-matrix multiplications should be straightforward.\n",
    "\n",
    "Say that we have two matrices, $A \\in \\mathbb{R}^{n \\times k}$ and $B \\in \\mathbb{R}^{k \\times m}$:\n",
    "\n",
    "$$A=\\begin{bmatrix}\n",
    " a_{11} & a_{12} & \\cdots & a_{1k} \\\\\n",
    " a_{21} & a_{22} & \\cdots & a_{2k} \\\\\n",
    "\\vdots & \\vdots & \\ddots & \\vdots \\\\\n",
    " a_{n1} & a_{n2} & \\cdots & a_{nk} \\\\\n",
    "\\end{bmatrix},\\quad\n",
    "B=\\begin{bmatrix}\n",
    " b_{11} & b_{12} & \\cdots & b_{1m} \\\\\n",
    " b_{21} & b_{22} & \\cdots & b_{2m} \\\\\n",
    "\\vdots & \\vdots & \\ddots & \\vdots \\\\\n",
    " b_{k1} & b_{k2} & \\cdots & b_{km} \\\\\n",
    "\\end{bmatrix}$$\n",
    "\n",
    "To produce the matrix product $C = AB$, it's easiest to think of $A$ in terms of its row vectors and $B$ in terms of its column vectors:\n",
    "\n",
    "$$A=\n",
    "\\begin{bmatrix}\n",
    "\\mathbf{a}^T_{1} \\\\\n",
    "\\mathbf{a}^T_{2} \\\\\n",
    "\\vdots \\\\\n",
    "\\mathbf{a}^T_n \\\\\n",
    "\\end{bmatrix},\n",
    "\\quad B=\\begin{bmatrix}\n",
    " \\mathbf{b}_{1} & \\mathbf{b}_{2} & \\cdots & \\mathbf{b}_{m} \\\\\n",
    "\\end{bmatrix}.\n",
    "$$\n",
    "\n",
    "Note here that each row vector $\\mathbf{a}^T_{i}$ lies in $\\mathbb{R}^k$ and that each column vector $\\mathbf{b}_j$ also lies in $\\mathbb{R}^k$.\n",
    "\n",
    "Then to produce the matrix product $C \\in \\mathbb{R}^{n \\times m}$ we simply compute each entry $c_{ij}$ as the dot product $\\mathbf{a}^T_i \\mathbf{b}_j$.\n",
    "\n",
    "$$C = AB = \\begin{bmatrix}\n",
    "\\mathbf{a}^T_{1} \\\\\n",
    "\\mathbf{a}^T_{2} \\\\\n",
    "\\vdots \\\\\n",
    "\\mathbf{a}^T_n \\\\\n",
    "\\end{bmatrix}\n",
    "\\begin{bmatrix}\n",
    " \\mathbf{b}_{1} & \\mathbf{b}_{2} & \\cdots & \\mathbf{b}_{m} \\\\\n",
    "\\end{bmatrix}\n",
    "= \\begin{bmatrix}\n",
    "\\mathbf{a}^T_{1} \\mathbf{b}_1 & \\mathbf{a}^T_{1}\\mathbf{b}_2& \\cdots & \\mathbf{a}^T_{1} \\mathbf{b}_m \\\\\n",
    " \\mathbf{a}^T_{2}\\mathbf{b}_1 & \\mathbf{a}^T_{2} \\mathbf{b}_2 & \\cdots & \\mathbf{a}^T_{2} \\mathbf{b}_m \\\\\n",
    " \\vdots & \\vdots & \\ddots &\\vdots\\\\\n",
    "\\mathbf{a}^T_{n} \\mathbf{b}_1 & \\mathbf{a}^T_{n}\\mathbf{b}_2& \\cdots& \\mathbf{a}^T_{n} \\mathbf{b}_m\n",
    "\\end{bmatrix}\n",
    "$$\n",
    "\n",
    "You can think of the matrix-matrix multiplication $AB$ as simply performing $m$ matrix-vector products and stitching the results together to form an $n \\times m$ matrix. Just as with ordinary dot products and matrix-vector products, we can compute matrix-matrix products in MXNet by using ``dot()``."
   ]
  },
  {
   "cell_type": "code",
   "execution_count": 17,
   "metadata": {
    "attributes": {
     "classes": [],
     "id": "",
     "n": "17"
    }
   },
   "outputs": [
    {
     "data": {
      "text/plain": [
       "array([[ 6.,  6.,  6.],\n",
       "       [22., 22., 22.],\n",
       "       [38., 38., 38.],\n",
       "       [54., 54., 54.],\n",
       "       [70., 70., 70.]])"
      ]
     },
     "execution_count": 17,
     "metadata": {},
     "output_type": "execute_result"
    }
   ],
   "source": [
    "B = np.ones(shape=(4, 3))\n",
    "np.dot(A, B)"
   ]
  },
  {
   "cell_type": "markdown",
   "metadata": {},
   "source": [
    "## Norms\n",
    "\n",
    "Before we can start implementing models,\n",
    "there is one last concept we are going to introduce.\n",
    "Some of the most useful operators in linear algebra are norms.\n",
    "Informally, they tell us how *big* a vector or matrix is.\n",
    "The notion of *size* under consideration here\n",
    "concerns not dimensionality\n",
    "but rather the magnitude of the components.\n",
    "We represent norms with the notation $\\|\\cdot\\|$.\n",
    "The $\\cdot$ in this expression is just a placeholder.\n",
    "For example, we would represent the norm of a vector $\\mathbf{x}$\n",
    "or matrix $A$ as $\\|\\mathbf{x}\\|$ or $\\|A\\|$, respectively.\n",
    "\n",
    "All norms must satisfy a handful of properties:\n",
    "\n",
    "1. $\\|\\alpha A\\| = |\\alpha| \\|A\\|$\n",
    "1. $\\|A + B\\| \\leq \\|A\\| + \\|B\\|$\n",
    "1. $\\|A\\| \\geq 0$\n",
    "1. If $\\forall {i,j}, a_{ij} = 0$, then $\\|A\\|=0$\n",
    "\n",
    "To put it in words, the first rule says\n",
    "that if we scale all the components of a matrix or vector\n",
    "by a constant factor $\\alpha$,\n",
    "its norm also scales by the *absolute value*\n",
    "of the same constant factor.\n",
    "The second rule is the familiar triangle inequality.\n",
    "The third rule simply says that the norm must be non-negative.\n",
    "That makes sense, in most contexts the smallest *size* for anything is 0.\n",
    "The final rule requires that the smallest norm is achieved\n",
    "by a matrix or vector consisting of all zeros.\n",
    "It is possible to define a norm that gives zero norm to nonzero matrices,\n",
    "but you cannot give nonzero norm to zero matrices.\n",
    "That may seem like a mouthful, but if you digest it\n",
    "then you probably have digested the important concepts here.\n",
    "\n",
    "You might notice that norms sound a lot like measures of distance.\n",
    "And you remember Euclidean distances\n",
    "(think Pythagoras' theorem) from grade school,\n",
    "then the concepts of non-negativity and the triangle inequality might ring a bell.\n",
    "\n",
    "In fact, the Euclidean distance $\\sqrt{x_1^2 + \\cdots + x_n^2}$ is a norm.\n",
    "Specifically it is the $\\ell_2$-norm.\n",
    "We call the analogous computation,\n",
    "performed over the entries of a matrix:\n",
    "$\\sqrt{\\sum_{i,j} a_{ij}^2}$,\n",
    "the *Frobenius norm*.\n",
    "In machine learning, we work more often\n",
    "with the squared $\\ell_2$ norm (notated $\\ell_2^2$).\n",
    "You will also frequently encounter the $\\ell_1$ norm,\n",
    "which is expressed as the sum of the absolute values of the components.\n",
    "As compared to the $\\ell_2$ norm,\n",
    "it is less influenced by outliers.\n",
    "\n",
    "In code, we can calculate the $\\ell_2$ norm of an `ndarray` by calling ``norm()``."
   ]
  },
  {
   "cell_type": "code",
   "execution_count": 18,
   "metadata": {
    "attributes": {
     "classes": [],
     "id": "",
     "n": "18"
    }
   },
   "outputs": [
    {
     "data": {
      "text/plain": [
       "array(3.7416575)"
      ]
     },
     "execution_count": 18,
     "metadata": {},
     "output_type": "execute_result"
    }
   ],
   "source": [
    "np.linalg.norm(x)"
   ]
  },
  {
   "cell_type": "markdown",
   "metadata": {},
   "source": [
    "To calculate the L1-norm, we compose\n",
    "the absolute value function with a sum over the elements."
   ]
  },
  {
   "cell_type": "code",
   "execution_count": 19,
   "metadata": {
    "attributes": {
     "classes": [],
     "id": "",
     "n": "19"
    }
   },
   "outputs": [
    {
     "data": {
      "text/plain": [
       "array(6.)"
      ]
     },
     "execution_count": 19,
     "metadata": {},
     "output_type": "execute_result"
    }
   ],
   "source": [
    "np.abs(x).sum()"
   ]
  },
  {
   "cell_type": "markdown",
   "metadata": {},
   "source": [
    "### Norms and objectives\n",
    "\n",
    "While we do not want to get too far ahead of ourselves,\n",
    "we can plant some intuition already about why these concepts are useful.\n",
    "In machine learning, we are often trying to solve optimization problems:\n",
    "*Maximize* the probability assigned to observed data.\n",
    "*Minimize* the distance between predictions\n",
    "and the ground-truth observations.\n",
    "Assign vector representations to items (like words, products, or news articles)\n",
    "such that the distance between similar items is minimized,\n",
    "and the distance between dissimilar items is maximized.\n",
    "Oftentimes, the objectives, perhaps the most important components\n",
    "of machine learning algorithms (besides the data),\n",
    "are expressed as norms.\n",
    "\n",
    "\n",
    "\n",
    "## Summary\n",
    "\n",
    "In just a few pages (or one Jupyter notebook),\n",
    "we have taught you all the linear algebra\n",
    "that you will need to understand\n",
    "a remarkable chunk of modern deep learning.\n",
    "There is a *lot* more to linear algebra\n",
    "and a lot of that math *is* useful for machine learning.\n",
    "For example, matrices can be decomposed into factors,\n",
    "and these decompositions can reveal\n",
    "low-dimensional structure in real-world datasets.\n",
    "There are entire subfields of machine learning\n",
    "that focus on using matrix decompositions\n",
    "and their generalizations to high-order tensors\n",
    "to discover structure in datasets and solve prediction problems.\n",
    "But this book focuses on deep learning.\n",
    "And we believe you will be much more inclined to learn more mathematics\n",
    "once you have gotten your hands dirty\n",
    "deploying useful machine learning models on real datasets.\n",
    "So while we reserve the right to introduce more math much later on,\n",
    "we will wrap up this chapter here.\n",
    "\n",
    "If you are eager to learn more about linear algebra,\n",
    "here are some of our favorite resources on the topic\n",
    "\n",
    "* For a solid primer on basics, check out Gilbert Strang's book [Introduction to Linear Algebra](http://math.mit.edu/~gs/linearalgebra/)\n",
    "* Zico Kolter's [Linear Algebra Review and Reference](http://www.cs.cmu.edu/~zkolter/course/15-884/linalg-review.pdf)\n",
    "* Kaare Brandt Peterson and Michael Syskind Peterson's [Matrix Cookbook](https://www.math.uwaterloo.ca/~hwolkowi/matrixcookbook.pdf)\n",
    "\n",
    "## Scan the QR Code to [Discuss](https://discuss.mxnet.io/t/2317)\n",
    "\n",
    "![](../img/qr_linear-algebra.svg)"
   ]
  }
 ],
 "metadata": {
  "kernelspec": {
   "display_name": "Python 3",
   "language": "python",
   "name": "python3"
  },
  "language_info": {
   "codemirror_mode": {
    "name": "ipython",
    "version": 3
   },
   "file_extension": ".py",
   "mimetype": "text/x-python",
   "name": "python",
   "nbconvert_exporter": "python",
   "pygments_lexer": "ipython3",
   "version": "3.6.9"
  }
 },
 "nbformat": 4,
 "nbformat_minor": 2
}
