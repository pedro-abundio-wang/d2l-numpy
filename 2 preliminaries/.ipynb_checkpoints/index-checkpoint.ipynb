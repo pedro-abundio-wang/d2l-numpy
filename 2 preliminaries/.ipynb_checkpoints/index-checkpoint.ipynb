{
 "cells": [
  {
   "cell_type": "markdown",
   "metadata": {},
   "source": [
    "#  Preliminaries\n",
    "\n",
    ":label:`chapter_preliminaries`\n",
    "\n",
    "\n",
    "To get started with deep learning,\n",
    "we will need to develop a few basic skills.\n",
    "All machine learning is concerned\n",
    "with extracting information from data.\n",
    "So we will begin by learning the practical skills\n",
    "for storing, manipulating, and preprocessing data.\n",
    "\n",
    "Moreover, machine learning typically requires\n",
    "working with large datasets, which we can think of as tables,\n",
    "where the rows correspond to examples\n",
    "and the columns correspond to attributes.\n",
    "Linear algebra gives us a powerful set of techniques\n",
    "for working with tabular data.\n",
    "We will not go too far into the weeds but rather focus on the basic\n",
    "of matrix operations and their implementation.\n",
    "\n",
    "Additionally, deep learning is all about optimization.\n",
    "We have a model with some parameters and\n",
    "we want to find those that fit our data *the best*.\n",
    "Determining which way to move each parameter at each step of an algorithm\n",
    "requires a little bit of calculus, which will be briefly introduced.\n",
    "Fortunately, the `autograd` package automatically computes differentiation for us,\n",
    "and we will cover it next.\n",
    "\n",
    "Next, machine learning is concerned with making predictions:\n",
    "what is the likely value of some unknown attribute,\n",
    "given the information that we observe?\n",
    "To reason rigorously under uncertainty\n",
    "we will need to invoke the language of probability and statistics.\n",
    "\n",
    "In the end, the official documentation provides\n",
    "plenty of descriptions and examples that are beyond this book. \n",
    "To conclude the chapter, we will show you how to look up documentation for\n",
    "the needed information."
   ]
  },
  {
   "cell_type": "markdown",
   "metadata": {},
   "source": [
    "```toc\n",
    ":maxdepth: 2\n",
    "\n",
    "ndarray\n",
    "linear-algebra\n",
    "autograd\n",
    "probability\n",
    "lookup-api\n",
    "```\n"
   ]
  }
 ],
 "metadata": {
  "kernelspec": {
   "display_name": "Python 3",
   "language": "python",
   "name": "python3"
  },
  "language_info": {
   "codemirror_mode": {
    "name": "ipython",
    "version": 3
   },
   "file_extension": ".py",
   "mimetype": "text/x-python",
   "name": "python",
   "nbconvert_exporter": "python",
   "pygments_lexer": "ipython3",
   "version": "3.6.9"
  }
 },
 "nbformat": 4,
 "nbformat_minor": 2
}
